{
 "cells": [
  {
   "cell_type": "markdown",
   "metadata": {},
   "source": [
    "# Loops oefeningen\n",
    "---\n",
    "\n",
    "Deze week gaan we verder met het oefenen van loops. We gaan dit keer wel wat meer code in onze loops schrijven zodat we hier meer mee kunnen. Lees goed de opdrachten door en **vergeet niet op te slaan na elke opdracht!!!!**. Hieronder staan nog 2 voorbeeld opdrachten uitgelegd."
   ]
  },
  {
   "cell_type": "markdown",
   "metadata": {},
   "source": [
    "### Voorbeeld opdracht 1:\n",
    "Maak een algoritme die alle getallen van 1 tot en met 100 bij elkaar optelt."
   ]
  },
  {
   "cell_type": "code",
   "execution_count": null,
   "metadata": {},
   "outputs": [],
   "source": []
  },
  {
   "cell_type": "markdown",
   "metadata": {},
   "source": [
    "*Om dit algoritme te maken moeten we eerst kijken wat we nodig hebben. We weten dat we alle getallen van 1 tot en met 100 moeten hebben. Dus we kunnen achterhalen dat we gebruik moeten maken van een loop. Verder moeten we alle getallen bij elkaar op tellen. Het is handig om hiervoor een variabelen aan te maken die voor ons dit bijhoudt. Deze variabelen noemen we `totaal` en we geven deze de waarde `0`. Let wel goed op dat je deze variabelen maakt voordat je de loop maakt, anders wordt deze elke keer terug op 0 gezet en dan werkt ons programma niet!*\n",
    "\n",
    "*Vervolgens schrijven we in onze loop dat we de waarde van de variabelen `totaal` gelijk willen maken aan de waarde die `totaal` nu heeft en de waarde die onze loop heeft. Ten slotte, als de loop klaar is, printen we deze waarde uit*\n"
   ]
  },
  {
   "cell_type": "code",
   "execution_count": null,
   "metadata": {},
   "outputs": [],
   "source": [
    "totaal = 0 # We maken eerst een variabelen 'totaal' aan met de waarde 0\n",
    "for num in range(1, 101): # We maken onze loop die vanaf 1 tot 101 loopt\n",
    "    totaal = totaal + num # We vervangen 'totaal' door de huidige waarde van 'totaal' samen met het nummer in de loop\n",
    "\n",
    "print(totaal) # We printen het resultaat uit"
   ]
  },
  {
   "cell_type": "markdown",
   "metadata": {},
   "source": [
    "### Voorbeeld opdracht 2:\n",
    "Maak een algoritme die alle even getallen van 1 tot en met 100 uitprint"
   ]
  },
  {
   "cell_type": "code",
   "execution_count": null,
   "metadata": {},
   "outputs": [],
   "source": []
  },
  {
   "cell_type": "markdown",
   "metadata": {},
   "source": [
    "*We beginnen weer met een simpele loop die vanaf 1 tot 101 gaat. Vervolgens moeten we in de loop gaan werken. We moeten namelijk voor elk nummer in de reeks kijken of deze even is of niet. Hiervoor maken we gebruik van een `if-statement` (Weet je niet meer zo goed hoe deze werken? Kijk eens terug naar de vorige lessen). We zetten de `if-statement` **in** onze loop zodat deze voor elk nummer uitgevoerd wordt.*\n",
    "\n",
    "*We weten dat een nummer even is als deze deelbaar is door 2. We moeten dus gebruik maken van de `modulo (%)` operator (wederom, als je niet meer weet hoe dit werkt, kijk terug naar de vorige lessen). Als het nummer modulo 2 gelijk is aan `0` dan is deze deelbaar door 2 en dus even.*"
   ]
  },
  {
   "cell_type": "code",
   "execution_count": null,
   "metadata": {},
   "outputs": [],
   "source": [
    "for num in range(1, 101):\n",
    "    if(num % 2 == 0):\n",
    "        print(num)"
   ]
  },
  {
   "cell_type": "markdown",
   "metadata": {},
   "source": [
    "### Opdracht 1\n",
    "Maak een algoritme die alle letters van een naam uitprint. *hint: een string is een lijst van letters*"
   ]
  },
  {
   "cell_type": "code",
   "execution_count": null,
   "metadata": {},
   "outputs": [],
   "source": [
    "naam = \"Piet\"\n"
   ]
  },
  {
   "cell_type": "markdown",
   "metadata": {},
   "source": [
    "### Opdracht 2\n",
    "Maak een algoritme die het kwadraat van elke getal van 1 tot en met 10 uitprint."
   ]
  },
  {
   "cell_type": "code",
   "execution_count": null,
   "metadata": {},
   "outputs": [],
   "source": [
    "\n"
   ]
  },
  {
   "cell_type": "markdown",
   "metadata": {},
   "source": [
    "### Opdracht 3\n",
    "Maak een algoritme die alle **oneven** getallen vanaf 1 tot en met 1000 uitprint."
   ]
  },
  {
   "cell_type": "code",
   "execution_count": null,
   "metadata": {},
   "outputs": [],
   "source": [
    "\n",
    "\n"
   ]
  },
  {
   "cell_type": "markdown",
   "metadata": {},
   "source": [
    "### Opdracht 4\n",
    "\n",
    "Maak een algoritme die alleen alle *positieven* getallen uit een lijst uitprint."
   ]
  },
  {
   "cell_type": "code",
   "execution_count": null,
   "metadata": {},
   "outputs": [],
   "source": [
    "nummers = [111, 32, -9, -45, -17, 9, 85, -10]\n",
    "\n"
   ]
  },
  {
   "cell_type": "markdown",
   "metadata": {},
   "source": [
    "### Opdracht 5\n",
    "Maak een algoritme die alle letters in een wordt optelt."
   ]
  },
  {
   "cell_type": "code",
   "execution_count": null,
   "metadata": {},
   "outputs": [],
   "source": [
    "woord = \"campylobacteriose\"\n",
    "aantal_letters = 0\n",
    "\n",
    "\n",
    "\n",
    "print(aantal_letters)"
   ]
  },
  {
   "cell_type": "markdown",
   "metadata": {},
   "source": [
    "### Opdracht 6\n",
    "Maak een algoritme die alle `oneven` nummers die deelbaar zijn door `7` in de reeks van 1 tot en met 10000 bij elkaar optelt."
   ]
  },
  {
   "cell_type": "code",
   "execution_count": null,
   "metadata": {},
   "outputs": [],
   "source": []
  },
  {
   "attachments": {},
   "cell_type": "markdown",
   "metadata": {},
   "source": [
    "### Opdracht 7\n",
    "Maak een algoritme die door het lijstje heen gaat en alle positieven getallen bij elkaar optelt"
   ]
  },
  {
   "cell_type": "code",
   "execution_count": null,
   "metadata": {},
   "outputs": [],
   "source": [
    "nummers = [111, 32, -9, -45, -17, 9, 85, -10]\n",
    "\n"
   ]
  },
  {
   "attachments": {},
   "cell_type": "markdown",
   "metadata": {},
   "source": [
    "### Opdracht 8\n",
    "\n",
    "Maak een algoritme die het kwadraat van elk nummer tot en met `10` uitprint"
   ]
  },
  {
   "cell_type": "code",
   "execution_count": null,
   "metadata": {},
   "outputs": [],
   "source": []
  },
  {
   "attachments": {},
   "cell_type": "markdown",
   "metadata": {},
   "source": [
    "### Opdracht 9\n",
    "#### FizzBuzz\n",
    "Schrijf een programma die het volgende doet:\n",
    "* Hij loopt door alle getallen heen tussen 1 en 100\n",
    "* Wanneer een getal deelbaar is door 3 moet er `Fizz` komen te staan.\n",
    "* Wanneer een getal deelbaar is door 5 moet er `Buzz` komen te staan.\n",
    "* Wanneer een getal deelbaar is door 3 en 5 moet er `FizzBuzz` komen te staan.\n",
    "* Is een getal niet deelbaar oor 3 of 5? Dan moet het getal er komen te staan.\n",
    "\n",
    "#### Voorbeeld output:\n",
    "`1 2 Fizz 4 Buzz Fizz 7 8 Fizz Buzz 11 Fizz 13 14 FizzBuzz ...`"
   ]
  },
  {
   "cell_type": "code",
   "execution_count": null,
   "metadata": {},
   "outputs": [],
   "source": []
  }
 ],
 "metadata": {
  "kernelspec": {
   "display_name": "Python 3.9.2 64-bit",
   "name": "python392jvsc74a57bd089aee6942dff7a18974bb50e1d06d5f53d62a755afa5f3e07738ada7c8d88558"
  },
  "language_info": {
   "codemirror_mode": {
    "name": "ipython",
    "version": 3
   },
   "file_extension": ".py",
   "mimetype": "text/x-python",
   "name": "python",
   "nbconvert_exporter": "python",
   "pygments_lexer": "ipython3",
   "version": "3.9.2"
  },
  "metadata": {
   "interpreter": {
    "hash": "89aee6942dff7a18974bb50e1d06d5f53d62a755afa5f3e07738ada7c8d88558"
   }
  },
  "orig_nbformat": 2
 },
 "nbformat": 4,
 "nbformat_minor": 2
}
